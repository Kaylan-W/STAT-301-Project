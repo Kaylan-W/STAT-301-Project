{
 "cells": [
  {
   "cell_type": "markdown",
   "id": "526ca0a0-ea65-480f-8777-490b22fa3c38",
   "metadata": {},
   "source": [
    "## Assignment 1: Data and Questions\n",
    "--- \n"
   ]
  },
  {
   "cell_type": "markdown",
   "id": "02a181dd-b327-403c-8e13-788c8b4c3eff",
   "metadata": {
    "tags": []
   },
   "source": [
    "### Describing the Dataset  \n",
    "\n",
    "The dataset to be used for the project is the World University Rankings 2023 Dataset sourced from Kaggle. This data was collected by Syed Ali Taqi, who used Python to scrape data from the web, manipulate it and compile it into a meaningful form. In this dataset, we have 13 different variables and 2341 observations (before the removal of NAs). Below is a description of all the variables.\n",
    "<br><br>\n",
    "\n",
    "| | Variable | Variable Type | Description |\n",
    "|---| -------- | ------- | --- |\n",
    "|1| University rank  | chr  |Rank of specific university all over the world|\n",
    "|2| University name | chr    |Specific name of University|\n",
    "|3| Location | chr |Physical place where university exists|\n",
    "|4| No. of students | chr |Present number of students enrolled in university as of 2023|\n",
    "|5| No. of students per staff |dbl |Number of students under one Professor|\n",
    "|6| International students |chr  |Total number of International Students|\n",
    "|7| Female : male ratio |chr  |A ratio of female to male students respectively|\n",
    "|8| Overall score | chr | The combined weighted scores of those given below. Out of 100|\n",
    "|9| Teaching score | chr |The percieved prestige of the institution based on the Academic Reputation Survey. Out of 100.|\n",
    "|10| Research score | chr |Reputation for research excellence amongst peers based on the Academic Reputation Survey. Out of 100|\n",
    "|11| Citations score | chr |The number of citations received by a journal in one year to documents published in the three previous years, divided by the number of documents indexed in Scopus published in those same three years. Out of 100.|\n",
    "|12| Industry income score | chr |How much money a university receives from the working industry in exchange for its academic expertise. Out of 100|\n",
    "|13| International outlook score | chr |The ability of a university to attract undergraduates, postgraduates and faculty from all over the globe.|\n",
    "\n",
    "\n",
    "<br><br>\n",
    "The dataset will be used to answer the question **Does a university's location and student body makeup influence the ratio of female to male students?**\n",
    "Here, the response variable is the female to male ratio, and the input variables are location and the number of international students. This question is focused on inference, in order to determine what what demographic factors (such as university location or student nationality) influence the gender balance of students. This data provides a clear means of exploring this question as it useful columns of interest.\n",
    "<br><br>\n",
    "This dataset contains many variables that one would expect to be numerical, but the authors have chosen to use character representation for almost all variables. This will need to be addressed in the data cleaning and wrangling stage of the project in order to conduct statistical analyses. \n",
    "\n",
    "<br>\n",
    "<br>\n",
    "<br>\n",
    "<br>\n"
   ]
  },
  {
   "cell_type": "markdown",
   "id": "524648af-62c7-4a90-b494-e4476c5cf06b",
   "metadata": {},
   "source": [
    "## Assignment 2: Exploratory Data Analysis and Visualization\n",
    "--- \n"
   ]
  },
  {
   "cell_type": "markdown",
   "id": "166be211-d890-4dae-82b9-635e187e0a39",
   "metadata": {},
   "source": [
    "In this assignment, you will:\n",
    "\n",
    "1. [x] Demonstrate that the dataset can be read from the web into R.\n",
    "2. [x] Clean and wrangle your data into a tidy format.\n",
    "3. [x] Propose a visualization that you consider relevant to address your question or to explore the data.\n",
    "    - propose a high quality plot or a combo plot sharing a common story (see details below).\n",
    "4. [ ] clearly explain why you consider this plot relevant to address your question or to explore the data. Justify your choice and provide an insightful interpretation of the visualization.\n",
    "5. [x] include a brief intro to the data, description of variables and questions. \n",
    "    - This was your assignment 1 but it is required again for completion. You can review the content of your assignment 1 or copy-paste as is, depending on its quality and received feedback. This part will not be re-graded but it will be re-read since it affects the visualization and explanation in the current assignment. "
   ]
  },
  {
   "cell_type": "markdown",
   "id": "294bb9f1-3ca5-4c41-a88c-33843b272012",
   "metadata": {
    "tags": []
   },
   "source": [
    "The dataset to be used for the project is the World University Rankings 2023 Dataset sourced from Kaggle. This data was collected by Syed Ali Taqi, who used Python to scrape data from the web, manipulate it and compile it into a meaningful form. In this dataset, we have 13 different variables and 2341 observations (before the removal of NAs). Below is a description of all the variables. \n",
    "<br><br>\n",
    "\n",
    "| | Variable | Variable Type | Description |\n",
    "|---| -------- | ------- | --- |\n",
    "|1| University rank  | chr  |Rank of specific university all over the world|\n",
    "|2| University name | chr    |Specific name of University|\n",
    "|3| Location | chr |Physical place where university exists|\n",
    "|4| No. of students | chr |Present number of students enrolled in university as of 2023|\n",
    "|5| No. of students per staff |dbl |Number of students under one Professor|\n",
    "|6| International students |chr  |Total number of International Students|\n",
    "|7| Female : male ratio |chr  |A ratio of female to male students respectively|\n",
    "|8| Overall score | chr | The combined weighted scores of those given below. Out of 100|\n",
    "|9| Teaching score | chr |The percieved prestige of the institution based on the Academic Reputation Survey. Out of 100.|\n",
    "|10| Research score | chr |Reputation for research excellence amongst peers based on the Academic Reputation Survey. Out of 100|\n",
    "|11| Citations score | chr |The number of citations received by a journal in one year to documents published in the three previous years, divided by the number of documents indexed in Scopus published in those same three years. Out of 100.|\n",
    "|12| Industry income score | chr |How much money a university receives from the working industry in exchange for its academic expertise. Out of 100|\n",
    "|13| International outlook score | chr |The ability of a university to attract undergraduates, postgraduates and faculty from all over the globe.|\n",
    "\n",
    "\n",
    "<br><br>\n",
    "The dataset will be used to answer the question **Does a university's location and student body makeup influence the number of female students?** \n",
    "The analysis will use a university's location and number of international students as input variables. This research question is focused on inference, in order to determine what what demographic factors influence the gender balance of students. Using just these variables will allow for a comprehensive, in depth understanding of the relationships between the two inputs and one response withut risk of overcomplicating models and using data with hidden correlations.  \n",
    "To answer the reaserach question, we will test the hypothesis **$H_0$:Regions with a large number of international students also have a large number of female students**\n",
    "\n",
    "<br>\n",
    "Before doing the inference, Exploratory Data Analysis should be done to gain insights about the dataset. This will involve reading in the data, cleaning ang wrangling it into a tidy format, and generating summary statistics and visualizations. \n",
    "<br>\n",
    "\n",
    "The EDA produced **Figure 1** below, which shows the total number of female students (pink) and international students (green) for all universities in a given region. It provides reified demostration of the relationship between the number of international and female students by region. We can see that the regions with the most international \n",
    "\n",
    "\n",
    "4. [ ] clearly explain why you consider this plot relevant to address your question or to explore the data. Justify your choice and provide an insightful interpretation of the visualization.\n",
    "\n",
    "\n",
    "The arguments that support and interpret the visualization are flawless and very well-reasoned, leaving no obvious gaps. \n",
    "Structure of argument is very clear and straightforward; the reader almost never has to jump back and forth unless clearly instructed to do so by references.\n",
    "\n",
    "<br>"
   ]
  },
  {
   "cell_type": "markdown",
   "id": "65cbec05-b806-4f87-b9cc-ed36de73ed10",
   "metadata": {},
   "source": [
    "<div style=\"text-align:center;\">\n",
    "    <img src=\"Female_vs_International.png\" width=\"800\" height=\"900\" alt=\"combined_bar\" style=\"padding: 0;\">\n",
    "    <figcaption style=\"text-align: center; font-size: 16px; font-weight: bold; position: absolute; top: 0; left: 0; right: 0; margin-left: auto; margin-right: auto;\">Figure 1: Combined Bar Chart Showing the Total International and Female students for each Region.</figcaption>\n",
    "</div>"
   ]
  },
  {
   "cell_type": "code",
   "execution_count": 1,
   "id": "a153d6c8-03b6-4004-a948-862ee3c5abb5",
   "metadata": {
    "collapsed": true,
    "jupyter": {
     "outputs_hidden": true
    },
    "tags": []
   },
   "outputs": [
    {
     "name": "stderr",
     "output_type": "stream",
     "text": [
      "── \u001b[1mAttaching core tidyverse packages\u001b[22m ──────────────────────── tidyverse 2.0.0 ──\n",
      "\u001b[32m✔\u001b[39m \u001b[34mdplyr    \u001b[39m 1.1.4     \u001b[32m✔\u001b[39m \u001b[34mreadr    \u001b[39m 2.1.4\n",
      "\u001b[32m✔\u001b[39m \u001b[34mforcats  \u001b[39m 1.0.0     \u001b[32m✔\u001b[39m \u001b[34mstringr  \u001b[39m 1.5.1\n",
      "\u001b[32m✔\u001b[39m \u001b[34mggplot2  \u001b[39m 3.4.4     \u001b[32m✔\u001b[39m \u001b[34mtibble   \u001b[39m 3.2.1\n",
      "\u001b[32m✔\u001b[39m \u001b[34mlubridate\u001b[39m 1.9.3     \u001b[32m✔\u001b[39m \u001b[34mtidyr    \u001b[39m 1.3.0\n",
      "\u001b[32m✔\u001b[39m \u001b[34mpurrr    \u001b[39m 1.0.2     \n",
      "── \u001b[1mConflicts\u001b[22m ────────────────────────────────────────── tidyverse_conflicts() ──\n",
      "\u001b[31m✖\u001b[39m \u001b[34mdplyr\u001b[39m::\u001b[32mfilter()\u001b[39m masks \u001b[34mstats\u001b[39m::filter()\n",
      "\u001b[31m✖\u001b[39m \u001b[34mdplyr\u001b[39m::\u001b[32mlag()\u001b[39m    masks \u001b[34mstats\u001b[39m::lag()\n",
      "\u001b[36mℹ\u001b[39m Use the conflicted package (\u001b[3m\u001b[34m<http://conflicted.r-lib.org/>\u001b[39m\u001b[23m) to force all conflicts to become errors\n",
      "\n",
      "Attaching package: ‘gridExtra’\n",
      "\n",
      "\n",
      "The following object is masked from ‘package:dplyr’:\n",
      "\n",
      "    combine\n",
      "\n",
      "\n",
      "\n",
      "Attaching package: ‘cowplot’\n",
      "\n",
      "\n",
      "The following object is masked from ‘package:lubridate’:\n",
      "\n",
      "    stamp\n",
      "\n",
      "\n"
     ]
    }
   ],
   "source": [
    "library(tidyverse)\n",
    "library(dplyr)\n",
    "library(tidyr)\n",
    "library(ggplot2)\n",
    "library(gridExtra)\n",
    "library(cowplot)\n",
    "\n",
    "raw_data <- read.csv(\"data/world_university_rankings_2023.csv\")"
   ]
  },
  {
   "cell_type": "code",
   "execution_count": 2,
   "id": "1a5b6bc9-3de7-4514-9da0-ece6d73f7d5b",
   "metadata": {
    "tags": []
   },
   "outputs": [],
   "source": [
    "# check how many rows have missing data\n",
    "na_count <- nrow(raw_data) - sum(complete.cases(raw_data))\n",
    "# na_count\n",
    "\n",
    "# remove rows with missing data, select columns of interest\n",
    "filtered <- raw_data %>%\n",
    "    filter(!is.na(International.Student)) %>%    # remove rows with n/a values for international student count\n",
    "    filter(!(Female.Male.Ratio == \"n/a\")) %>%    # remove rows with n/a values for the ratio\n",
    "    filter(!(University.Rank == \"Reporter\")) %>% # remove rows where the rank is reporter\n",
    "    select(\"Name.of.University\",\"Location\",\"No.of.student\",\n",
    "           \"International.Student\",\"Female.Male.Ratio\")\n",
    "\n",
    "# rename columns\n",
    "col_names <- c(\"name\",\"location\",\"num_students\", \"pct_international\", \"f_to_m_ratio\")  \n",
    "colnames(filtered) <- col_names \n",
    "\n",
    "# separating the column f_to_m_ratio into two columns \n",
    "filtered <- separate(filtered, f_to_m_ratio, into = c(\"pct_female\", \"pct_male\"), sep = \" : \")  \n",
    "\n",
    "# convert chr columns to numeric\n",
    "filtered$pct_female <- as.numeric(filtered$pct_female) \n",
    "filtered$pct_male <- as.numeric(filtered$pct_male)  \n",
    "\n",
    "# convert location column to factor\n",
    "filtered$location <- as.factor(filtered$location)\n",
    "\n",
    "filtered_loc <- filtered %>%\n",
    "        filter(!(location == \"n/a\"))"
   ]
  },
  {
   "cell_type": "code",
   "execution_count": 3,
   "id": "c091a66b-02c3-42a5-b7b6-da110ca4083f",
   "metadata": {
    "tags": []
   },
   "outputs": [],
   "source": [
    "# approximate the number of international students of each gender, to 0 decimal places \n",
    "est_int_per_gender <- filtered_loc %>% \n",
    "        mutate(approx_int = (num_students * (pct_international/100)) %>% round(0)) %>%\n",
    "        mutate(approx_int_fem = (num_students * (pct_international/100) * (pct_female/100)) %>% round(0)) %>%\n",
    "        mutate(approx_int_male = (num_students * (pct_international/100) * (pct_male/100)) %>% round(0))"
   ]
  },
  {
   "cell_type": "code",
   "execution_count": 4,
   "id": "6c28f5ef-6555-440a-979d-818e0b4a873c",
   "metadata": {
    "tags": []
   },
   "outputs": [],
   "source": [
    "# define regions of the world\n",
    "n_africa <- c(\"Algeria\", \"Egypt\", \"Morocco\", \"Tunisia\") \n",
    "s_africa <- c(\"Botswana\", \"Namibia\", \"South Africa\")\n",
    "e_africa <- c(\"Ethiopia\", \"Kenya\", \"Uganda\", \"Mozambique\", \"Zambia\", \"Tanzania\", \"Zimbabwe\",  \"Mauritius\")\n",
    "w_africa <- c(\"Ghana\", \"Nigeria\")\n",
    "\n",
    "caribbean <- c(\"Jamaica\", \"Cuba\", \"Puerto Rico\")\n",
    "\n",
    "n_america <- c(\"Canada\", \"United States\")\n",
    "c_america<- c(\"Costa Rica\", \"Mexico\") \n",
    "s_america <- c(\"Argentina\", \"Brazil\", \"Chile\", \"Colombia\", \"Ecuador\", \"Peru\", \"Venezuela\")\n",
    "\n",
    "europe <- c(\"Croatia\", \"Montenegro\", \"Iceland\", \"Norway\", \"Serbia\", \"Switzerland\", \"Ukraine\", \"United Kingdom\")\n",
    "eu <- c(\"Austria\", \"Belgium\", \"Bulgaria\", \"Cyprus\", \"Czech Republic\", \"Denmark\", \"Estonia\", \"Finland\", \"France\", \n",
    "        \"Germany\", \"Greece\", \"Hungary\", \"Ireland\", \"Italy\", \"Latvia\", \"Lithuania\", \"Luxembourg\", \"Malta\", \n",
    "        \"Netherlands\", \"Poland\", \"Portugal\", \"Romania\", \"Slovakia\", \"Slovenia\", \"Spain\", \"Sweden\")\n",
    "\n",
    "middle_east <- c(\"Iran\", \"Israel\", \"Jordan\", \"Oman\", \"Qatar\", \"Saudi Arabia\", \"United Arab Emirates\")\n",
    "\n",
    "oceania <- c(\"Australia\", \"Fiji\", \"New Zealand\")\n",
    "\n",
    "c_asia    <- c(\"Kazakhstan\") \n",
    "s_asia <- c(\"Sri Lanka\", \"Bangladesh\", \"India\", \"Pakistan\", \"Nepal\")\n",
    "se_asia  <- c(\"Brunei\", \"Brunei Darussalam\", \"Indonesia\", \"Malaysia\", \"Philippines\", \"Singapore\", \"Thailand\", \"Vietnam\")\n",
    "e_asia <- c(\"China\", \"South Korea\", \"Japan\", \"Hong Kong\", \"Taiwan\")\n",
    "w_asia  <- c(\"Georgia\", \"Azerbaijan\", \"Turkey\", \"Northern Cyprus\", \"Lebanon\", \"Iraq\")\n"
   ]
  },
  {
   "cell_type": "code",
   "execution_count": 5,
   "id": "7fa25b12-af32-4292-aa12-c3270180bb83",
   "metadata": {
    "tags": []
   },
   "outputs": [],
   "source": [
    "# assign each university to a region\n",
    "est_int_per_gender$region <- NA\n",
    "\n",
    "est_int_per_gender <- est_int_per_gender %>%\n",
    "  mutate(region = case_when(\n",
    "      location %in% n_africa ~ \"Northern Africa\" , \n",
    "      location %in% s_africa ~ \"Southern Africa\" ,\n",
    "      location %in% e_africa ~ \"Eastern Africa\" ,\n",
    "      location %in% w_africa ~ \"Western Africa\" ,\n",
    "      location %in% caribbean ~ \"Caribbean\" ,\n",
    "      location %in% n_america ~ \"North America\" ,\n",
    "      location %in% c_america ~ \"Central America\" ,\n",
    "      location %in% s_america ~ \"South America\" ,\n",
    "      location %in% europe ~ \"Europe\" ,\n",
    "      location %in% eu ~ \"European Union\" ,\n",
    "      location %in% middle_east ~ \"Middle East\" ,\n",
    "      location %in% oceania ~ \"Oceania\" ,\n",
    "      location %in% c_asia ~ \"Central Asia\" ,\n",
    "      location %in% s_asia ~ \"South Asia\" ,\n",
    "      location %in% se_asia ~ \"Southeast Asia\" ,\n",
    "      location %in% e_asia ~ \"East Asia\" ,\n",
    "      location %in% w_asia ~ \"West Asia\" ,\n",
    "      TRUE                  ~ NA_character_ \n",
    "  ))"
   ]
  },
  {
   "cell_type": "code",
   "execution_count": 6,
   "id": "76d4cc2a-5c00-4e27-a7d6-c2fd17b87ce8",
   "metadata": {
    "tags": []
   },
   "outputs": [],
   "source": [
    "# calculate the number of international and female students per region\n",
    "region_stats <- est_int_per_gender %>%\n",
    "        group_by(region) %>%\n",
    "        summarise(sum_international = sum(approx_int), sum_female = sum(approx_int_fem))  "
   ]
  },
  {
   "cell_type": "code",
   "execution_count": 23,
   "id": "222af39a-dda9-4179-bfd7-4ffc1a864904",
   "metadata": {
    "tags": []
   },
   "outputs": [],
   "source": [
    " # Plot for international students\n",
    "plot_international <- ggplot(region_stats, aes(x = region, y = sum_international, fill = \"International\")) +\n",
    "  geom_bar(stat = \"identity\") +\n",
    "  geom_text(aes(label = sum_international), \n",
    "            vjust = 1, size = 4, color = \"black\") + # Add text annotations for y-values\n",
    "  scale_fill_manual(values = \"lightgreen\") +  # Set color for international bars\n",
    "  labs(y = \"# International Students\") +\n",
    "  theme(legend.position = \"none\",\n",
    "        text = element_text(size = 20),\n",
    "        plot.title = element_text(hjust = 0.5),\n",
    "        axis.text.x = element_blank(),   # Remove x-axis text  \n",
    "        axis.title.x = element_blank(),  # Remove x-axis title\n",
    "        axis.text.y = element_blank(),   # Remove x-axis text \n",
    "        axis.ticks.length = unit(0, \"cm\"),  # Remove axis ticks\n",
    "        panel.background = element_rect(fill = \"white\")\n",
    "  ) + scale_y_reverse()\n",
    "\n",
    "# plot for female students\n",
    "plot_female <- ggplot(region_stats, aes(x = region, y = sum_female, fill = \"Female\")) +\n",
    "  geom_bar(stat = \"identity\") +\n",
    "  geom_text(aes(label = sum_female),  \n",
    "            vjust = 0, size = 4, color = \"black\") +  # Add text annotations for y-values\n",
    "  scale_fill_manual(values = \"lightpink\") +  # Set color for female bars\n",
    "  labs(y = \"# Female Students\") +\n",
    "  scale_y_continuous(limits = c(0, max(region_stats$sum_international))) +\n",
    "  theme(legend.position = \"none\",\n",
    "        text = element_text(size = 20),\n",
    "        plot.title = element_text(hjust = 0.5),\n",
    "        axis.text.x = element_text(angle = 90, hjust = 0, size =12),\n",
    "        axis.title.x = element_blank(), # Remove x-axis title\n",
    "        axis.text.x.top = element_text(size = 15),\n",
    "        axis.text.y = element_blank(),   # Remove x-axis text \n",
    "        axis.ticks.length = unit(0, \"cm\"),\n",
    "        panel.background = element_rect(fill = \"white\")\n",
    "  )  \n",
    "\n",
    "# put plots together\n",
    "options(repr.plot.width = 12, repr.plot.height = 15) \n",
    "combo_plot <- plot_grid(plot_female, plot_international, nrow = 2)\n",
    "ggsave(\"Female_vs_International.png\", combo_plot, width = 12, height = 15)"
   ]
  },
  {
   "cell_type": "code",
   "execution_count": null,
   "id": "ec5adba1-6f81-47bd-8c3c-36c9c6d09e56",
   "metadata": {},
   "outputs": [],
   "source": []
  }
 ],
 "metadata": {
  "kernelspec": {
   "display_name": "R",
   "language": "R",
   "name": "ir"
  },
  "language_info": {
   "codemirror_mode": "r",
   "file_extension": ".r",
   "mimetype": "text/x-r-source",
   "name": "R",
   "pygments_lexer": "r",
   "version": "4.2.3"
  },
  "toc-autonumbering": false,
  "toc-showcode": true
 },
 "nbformat": 4,
 "nbformat_minor": 5
}
