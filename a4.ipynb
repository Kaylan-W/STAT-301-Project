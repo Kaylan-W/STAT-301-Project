{
 "cells": [
  {
   "cell_type": "markdown",
   "id": "524648af-62c7-4a90-b494-e4476c5cf06b",
   "metadata": {},
   "source": [
    "## Assignment 4: Computational Code and Output\n",
    "### Exploring Gender Diversity in Universities\n",
    "---\n",
    "<br>\n"
   ]
  },
  {
   "cell_type": "markdown",
   "id": "edb9d204-81b3-4d09-a884-4971c111bf2f",
   "metadata": {
    "tags": []
   },
   "source": [
    "## Introduction\n",
    "This project uses the [World University Rankings 2023](https://www.kaggle.com/datasets/alitaqi000/world-university-rankings-2023) Dataset sourced from Kaggle (Syed Ali Taqi). The data was collected by Syed Ali Taqi, who used Python to scrape data from the web, manipulate it and compile it into a meaningful form. In this dataset, we have 13 different variables and 2341 observations (including NAs). The variables are:\n",
    "<br><br>\n",
    "\n",
    "| | Variable | Variable Type | Description |\n",
    "|---| -------- | ------- | --- |\n",
    "|1| University rank  | chr  |Rank of specific university all over the world|\n",
    "|2| University name | chr    |Specific name of University|\n",
    "|3| Location | chr |Physical place where university exists|\n",
    "|4| No. of students | chr |Present number of students enrolled in university as of 2023|\n",
    "|5| No. of students per staff |dbl |Number of students under one Professor|\n",
    "|6| International students |chr  |Total number of International Students|\n",
    "|7| Female : male ratio |chr  |A ratio of female to male students respectively|\n",
    "|8| Overall score | chr | The combined weighted scores of those given below. Out of 100|\n",
    "|9| Teaching score | chr |The percieved prestige of the institution based on the Academic Reputation Survey. Out of 100.|\n",
    "|10| Research score | chr |Reputation for research excellence amongst peers based on the Academic Reputation Survey. Out of 100|\n",
    "|11| Citations score | chr |The number of citations received by a journal in one year to documents published in the three previous years, divided by the number of documents indexed in Scopus published in those same three years. Out of 100.|\n",
    "|12| Industry income score | chr |How much money a university receives from the working industry in exchange for its academic expertise. Out of 100|\n",
    "|13| International outlook score | chr |The ability of a university to attract undergraduates, postgraduates and faculty from all over the globe.|\n",
    "\n",
    "\n",
    "<br><br>\n",
    "The dataset will be used to answer the question **Does a university's location and student body makeup influence the number of female students?** We will explore the relationship between international and female students at universities and investigate whether there are any regional variations in this relationship. This research question aims at inference, seeking to identify the demographic factors that impact the gender balance of students.  \n",
    "<br>\n",
    "Regarding hypotheses, we will test the following:\n",
    "\n",
    "**Null Hypothesis ($H_0$):** Regions with a large number of international students do not have a large number of female students.\n",
    "\n",
    "**Alternative Hypothesis ($H_1$):** Regions with a large number of international students have a large number of female students.\n",
    "\n",
    "<br>\n",
    "    Though the dataset contains many variables, these were chosen for their theoretical relevance to the research question. Geographical location influences cultural, social, and economic factors that can impact gender dynamics in student populations. Similarly, the presence of international students contributes to diversity on campus, potentially influencing female enrollment rates. Using just these will also allow for a comprehensive, in depth understanding of their relationships without risk of creating overcomplicated models or using data with hidden correlations. "
   ]
  },
  {
   "cell_type": "markdown",
   "id": "704b8077-63e6-489a-9db6-7ba0015c0fac",
   "metadata": {
    "tags": []
   },
   "source": [
    "<br><br>\n",
    "\n",
    "---\n",
    "## Exploratory Data Analysis\n",
    "Before conducting inference, we will perform Exploratory Data Analysis (EDA) to gain insights about the dataset. This will involve reading in the data, cleaning, and wrangling it into a tidy format, and generating summary statistics and visualizations. The visualization below **(Figure 1)** provides a clear demonstration of the relationship between the total number of female students (pink) and international students (green) by region. Upon examination, regions with the highest number of international students, such as the European Union and North America, also tend to have the highest number of female students. Conversely, the region with lowest numbers of international students, the Caribbean, has the second lowest number of female students. This suggests a potential relationship worth exploring further between the variables of interest."
   ]
  },
  {
   "cell_type": "markdown",
   "id": "b9a37d11-e256-41a0-80e0-954b528dc5b4",
   "metadata": {},
   "source": [
    "<br>\n",
    "\n",
    "**Figure 1: Diverging Bar Chart Showing the Total International and Female students for each Region.**"
   ]
  },
  {
   "cell_type": "markdown",
   "id": "3eeb47a4-ffff-4b87-b01c-655b69dda499",
   "metadata": {},
   "source": [
    "<div style=\"text-align:center;\">\n",
    "    <img src=\"https://raw.githubusercontent.com/Kaylan-W/STAT-301-Project/main/Female_vs_International.png\" width=\"600\" height=\"700\" alt=\"combined_bar\" style=\"padding: 0;\">"
   ]
  },
  {
   "cell_type": "code",
   "execution_count": 6,
   "id": "a153d6c8-03b6-4004-a948-862ee3c5abb5",
   "metadata": {
    "jupyter": {
     "source_hidden": true
    },
    "tags": []
   },
   "outputs": [],
   "source": [
    "# install libraries\n",
    "library(tidyverse)\n",
    "library(dplyr)\n",
    "library(tidyr)\n",
    "library(ggplot2)\n",
    "library(gridExtra)\n",
    "library(cowplot)\n",
    "\n",
    "raw_data <- read.csv(\"https://raw.githubusercontent.com/Kaylan-W/STAT-301-Project/main/world_university_rankings_2023.csv\")"
   ]
  },
  {
   "cell_type": "code",
   "execution_count": 7,
   "id": "a7fc379e-8b4e-4712-b938-1b58c02b20c5",
   "metadata": {
    "jupyter": {
     "source_hidden": true
    },
    "tags": []
   },
   "outputs": [],
   "source": [
    "# check how many rows have missing data\n",
    "na_count <- nrow(raw_data) - sum(complete.cases(raw_data))\n",
    "# na_count\n",
    "\n",
    "# remove rows with missing data, select columns of interest\n",
    "filtered <- raw_data %>%\n",
    "    filter(!is.na(International.Student)) %>%    # remove rows with n/a values for international count\n",
    "    filter(!(Female.Male.Ratio == \"n/a\")) %>%    # remove rows with n/a values for the ratio\n",
    "    filter(!(University.Rank == \"Reporter\")) %>% # remove rows where the rank is reporter\n",
    "    select(\"Name.of.University\",\"Location\",\"No.of.student\",\n",
    "           \"International.Student\",\"Female.Male.Ratio\")\n",
    "\n",
    "# rename columns\n",
    "col_names <- c(\"name\",\"location\",\"num_students\", \"pct_international\", \"f_to_m_ratio\")  \n",
    "colnames(filtered) <- col_names \n",
    "\n",
    "# separating the column f_to_m_ratio into two columns \n",
    "filtered <- separate(filtered, f_to_m_ratio, into = c(\"pct_female\", \"pct_male\"), sep = \" : \")  \n",
    "\n",
    "# convert chr columns to numeric\n",
    "filtered$pct_female <- as.numeric(filtered$pct_female) \n",
    "filtered$pct_male <- as.numeric(filtered$pct_male)  \n",
    "\n",
    "# convert location column to factor\n",
    "filtered$location <- as.factor(filtered$location)\n",
    "\n",
    "filtered_loc <- filtered %>%\n",
    "        filter(!(location == \"n/a\"))\n",
    "\n",
    "# approximate the number of international students and students of each gender, to 0 decimal places \n",
    "est_int_per_gender <- filtered_loc %>% \n",
    "        mutate(approx_int = (num_students * (pct_international/100)) %>% round(0)) %>%\n",
    "        mutate(approx_int_fem = (num_students * (pct_international/100) * (pct_female/100))%>% round(0))%>%\n",
    "        mutate(approx_int_male = (num_students * (pct_international/100) * (pct_male/100)) %>% round(0))%>%\n",
    "        mutate(approx_fem = (num_students * (pct_female/100)) %>% round(0)) %>%\n",
    "        mutate(approx_male = (num_students * (pct_male/100)) %>% round(0))"
   ]
  },
  {
   "cell_type": "code",
   "execution_count": 8,
   "id": "6c28f5ef-6555-440a-979d-818e0b4a873c",
   "metadata": {
    "jupyter": {
     "source_hidden": true
    },
    "tags": []
   },
   "outputs": [],
   "source": [
    "# define regions of the world\n",
    "n_africa <- c(\"Algeria\", \"Egypt\", \"Morocco\", \"Tunisia\") \n",
    "s_africa <- c(\"Botswana\", \"Namibia\", \"South Africa\")\n",
    "e_africa <- c(\"Ethiopia\", \"Kenya\", \"Uganda\", \"Mozambique\", \"Zambia\", \"Tanzania\", \"Zimbabwe\",  \"Mauritius\")\n",
    "w_africa <- c(\"Ghana\", \"Nigeria\")\n",
    "\n",
    "caribbean <- c(\"Jamaica\", \"Cuba\", \"Puerto Rico\")\n",
    "\n",
    "n_america <- c(\"Canada\", \"United States\")\n",
    "c_america<- c(\"Costa Rica\", \"Mexico\") \n",
    "s_america <- c(\"Argentina\", \"Brazil\", \"Chile\", \"Colombia\", \"Ecuador\", \"Peru\", \"Venezuela\")\n",
    "\n",
    "europe <- c(\"Croatia\", \"Montenegro\", \"Iceland\", \"Norway\", \"Serbia\", \"Switzerland\", \"Ukraine\", \n",
    "            \"United Kingdom\")\n",
    "eu <- c(\"Austria\", \"Belgium\", \"Bulgaria\", \"Cyprus\", \"Czech Republic\", \"Denmark\", \"Estonia\", \"Finland\", \n",
    "        \"France\", \"Germany\", \"Greece\", \"Hungary\", \"Ireland\", \"Italy\", \"Latvia\", \"Lithuania\", \"Luxembourg\", \n",
    "        \"Malta\", \"Netherlands\", \"Poland\", \"Portugal\", \"Romania\", \"Slovakia\", \"Slovenia\", \"Spain\", \"Sweden\")\n",
    "\n",
    "middle_east <- c(\"Iran\", \"Israel\", \"Jordan\", \"Oman\", \"Qatar\", \"Saudi Arabia\", \"United Arab Emirates\")\n",
    "\n",
    "oceania <- c(\"Australia\", \"Fiji\", \"New Zealand\")\n",
    "\n",
    "c_asia    <- c(\"Kazakhstan\") \n",
    "s_asia <- c(\"Sri Lanka\", \"Bangladesh\", \"India\", \"Pakistan\", \"Nepal\")\n",
    "se_asia  <- c(\"Brunei\", \"Brunei Darussalam\", \"Indonesia\", \"Malaysia\", \"Philippines\", \"Singapore\", \n",
    "              \"Thailand\", \"Vietnam\")\n",
    "e_asia <- c(\"China\", \"South Korea\", \"Japan\", \"Hong Kong\", \"Taiwan\")\n",
    "w_asia  <- c(\"Georgia\", \"Azerbaijan\", \"Turkey\", \"Northern Cyprus\", \"Lebanon\", \"Iraq\")\n"
   ]
  },
  {
   "cell_type": "code",
   "execution_count": 9,
   "id": "78977ab6-491c-433d-ae07-236be2685c8f",
   "metadata": {
    "jupyter": {
     "source_hidden": true
    },
    "tags": []
   },
   "outputs": [],
   "source": [
    "# assign each university to a region\n",
    "est_int_per_gender$region <- NA\n",
    "\n",
    "est_int_per_gender <- est_int_per_gender %>%\n",
    "  mutate(region = case_when(\n",
    "      location %in% n_africa ~ \"Northern Africa\" , \n",
    "      location %in% s_africa ~ \"Southern Africa\" ,\n",
    "      location %in% e_africa ~ \"Eastern Africa\" ,\n",
    "      location %in% w_africa ~ \"Western Africa\" ,\n",
    "      location %in% caribbean ~ \"Caribbean\" ,\n",
    "      location %in% n_america ~ \"North America\" ,\n",
    "      location %in% c_america ~ \"Central America\" ,\n",
    "      location %in% s_america ~ \"South America\" ,\n",
    "      location %in% europe ~ \"Europe\" ,\n",
    "      location %in% eu ~ \"European Union\" ,\n",
    "      location %in% middle_east ~ \"Middle East\" ,\n",
    "      location %in% oceania ~ \"Oceania\" ,\n",
    "      location %in% c_asia ~ \"Central Asia\" ,\n",
    "      location %in% s_asia ~ \"South Asia\" ,\n",
    "      location %in% se_asia ~ \"Southeast Asia\" ,\n",
    "      location %in% e_asia ~ \"East Asia\" ,\n",
    "      location %in% w_asia ~ \"West Asia\" ,\n",
    "      TRUE                  ~ NA_character_ \n",
    "  ))\n",
    "\n",
    "# calculate the number of international, female and all students per region\n",
    "region_stats <- est_int_per_gender %>%\n",
    "        group_by(region) %>%\n",
    "        summarise(sum_international = sum(approx_int), sum_female = sum(approx_fem), total_students = sum(num_students)) "
   ]
  },
  {
   "cell_type": "code",
   "execution_count": 10,
   "id": "222af39a-dda9-4179-bfd7-4ffc1a864904",
   "metadata": {
    "jupyter": {
     "source_hidden": true
    },
    "tags": []
   },
   "outputs": [],
   "source": [
    " # Plot for international students\n",
    "plot_international <- ggplot(region_stats, aes(x = region, y = sum_international, fill = \"International\"))+\n",
    "  geom_bar(stat = \"identity\") +\n",
    "  geom_text(aes(label = sum_international), \n",
    "            vjust = 0, size = 4, color = \"black\") + # Add text annotations for y-values\n",
    "  scale_fill_manual(values = \"lightgreen\") +  # Set color for international bars\n",
    "  labs(y = \"# International Students\") +\n",
    "  scale_y_continuous(limits = c(0, max(region_stats$sum_female))) +\n",
    "  theme(legend.position = \"none\",\n",
    "        text = element_text(size = 20),\n",
    "        plot.title = element_text(hjust = 0.5),\n",
    "        axis.text.x = element_text(angle = 90, hjust = 0, size =12),\n",
    "        axis.title.x = element_blank(), # Remove x-axis title\n",
    "        axis.text.x.top = element_text(size = 15),\n",
    "        axis.text.y = element_blank(),   # Remove x-axis text \n",
    "        axis.title.y = element_text(hjust = 0.2),\n",
    "        axis.ticks.length = unit(0, \"cm\"),\n",
    "        panel.background = element_rect(fill = \"white\")\n",
    "  ) \n",
    "\n",
    "# plot for female students\n",
    "plot_female <- ggplot(region_stats, aes(x = region, y = sum_female, fill = \"Female\")) +\n",
    "  geom_bar(stat = \"identity\") +\n",
    "  geom_text(aes(label = sum_female),  \n",
    "            vjust = 1, size = 4, color = \"black\") +  # Add text annotations for y-values\n",
    "  scale_fill_manual(values = \"lightpink\") +  # Set color for female bars\n",
    "  labs(y = \"# Female Students\") +\n",
    "  theme(legend.position = \"none\",\n",
    "        text = element_text(size = 20),\n",
    "        plot.title = element_text(hjust = 0.5),\n",
    "        axis.text.x = element_blank(),   # Remove x-axis text  \n",
    "        axis.title.x = element_blank(),  # Remove x-axis title\n",
    "        axis.text.y = element_blank(),   # Remove x-axis text \n",
    "        axis.title.y = element_text(hjust = 0.8),\n",
    "        axis.ticks.length = unit(0, \"cm\"),  # Remove axis ticks\n",
    "        panel.background = element_rect(fill = \"white\")\n",
    "  )  + scale_y_reverse()\n",
    "\n",
    "# put plots together\n",
    "options(repr.plot.width = 12, repr.plot.height = 20) \n",
    "combo_plot <- plot_grid(plot_international,plot_female, nrow = 2)\n",
    "# ggsave(\"Female_vs_International.png\", combo_plot, width = 12, height = 15)"
   ]
  },
  {
   "cell_type": "markdown",
   "id": "28e77485-1fcf-4445-9cb8-bb0e5d4ce630",
   "metadata": {
    "tags": []
   },
   "source": [
    "<br><br>\n",
    "\n",
    "---\n",
    "## Methods and Plan\n",
    "\n",
    "This section proposes a method to address the research question: **Does a university's location and student body makeup influence the number of female students?** We will explore the relationship between international and female students at universities and investigate regional variations in this relationship.\n",
    "\n",
    "<br>\n",
    "\n",
    "### Model:\n",
    "To address the question of whether a university's location and student body makeup influence the number of female students, multiple linear regression (MLR) can be used as the method of analysis. MLR is appropriate for this study because:\n",
    "* It allows examination of the relationship between multiple independent variables (such as geographical location and student demographics) and a single dependent variable (number of female students).\n",
    "* **Modeling Continuous Outcome:** The number of female students is a continuous variable. Linear regression is a well-established method for modelling the relationship between continuous independent variables and a continuous dependent variable.\n",
    "* **Accounting for Location:** We can include a categorical variable representing region as an independent variable in the model. This allows us to assess the overall effect of location on the number of female students.\n",
    "* **Interaction Effect:** To investigate if the relationship between international students and female students varies across regions, we can include an interaction term in the model. A statistically significant interaction term would indicate that the effect of international students on female enrollment depends on the specific region.  \n",
    "\n",
    "### Assumptions of Linear Regression:\n",
    "\n",
    "One of the main assumptions of MLR is that there is a linear relationship between the independent variables and the dependent variable. In our case, we assume that changes in the geographical location of universities and the composition of their student bodies (including international students and female-to-male ratio) have a linear effect on the number of female students enrolled. While MLR does not require the independent variables to be normally distributed, it does assume that the residuals (the differences between observed and predicted values) are normally distributed.\n",
    "\n",
    "### Limitations of Linear Regression:\n",
    "\n",
    "* **Non-linear Relationships:** If the true relationship between the variables is not linear, the model might not capture it accurately.  \n",
    "* **Outliers:** Outliers can significantly impact the results of linear regression.  \n",
    "* **Multicollinearity:** If the independent variables are highly correlated, it can lead to unstable coefficient estimates. We can check for multicollinearity using correlation analysis and variance inflation factors (VIF).\n",
    "\n",
    "Linear regression with an interaction term offers a suitable approach to investigate the research question. It allows us to model the relationship between international students, location, and female student enrollment while accounting for potential interaction effects. By acknowledging the assumptions and limitations of this method, we can carefully interpret the results and gain valuable insights into the factors influencing gender balance at universities across different regions. "
   ]
  },
  {
   "cell_type": "markdown",
   "id": "5b907311-8592-4513-8e0e-f2d491917684",
   "metadata": {
    "tags": []
   },
   "source": [
    "<br><br>\n",
    "\n",
    "---\n",
    "##  Implementation of a proposed model\n",
    "\n",
    "In this section, we will implement the interactive MLR model and discuss the results.\n",
    "\n",
    "\n",
    "- [x] Add the new content at the end of your existing notebook containing the data description, question, visualization and plan. We won't regrade those but they provide useful context.\n",
    "- [x] Name the new section \"Implementation of a proposed model\"\n",
    "- [ ] Write a computational code to implement *one* of the method proposed in the previous assignment (or suggested in the interview). \n",
    "- [ ] Use *only one* visualization or table to report the results.\n",
    "- [ ] In 3 or 4 sentences give a brief interpretation of the results. \n",
    "- [ ] If needed, comment on any unexpected result or potential problems with the analysis, and possible ways to address issues encountered. \n",
    "- [ ] If results are as expected, explain how they address the question of interest.\n",
    "- [ ] **Do not exceed the 4 sentences limit**."
   ]
  },
  {
   "cell_type": "code",
   "execution_count": 11,
   "id": "018e3193-3f63-499d-b775-9fc4bdd45aa1",
   "metadata": {
    "collapsed": true,
    "jupyter": {
     "outputs_hidden": true
    }
   },
   "outputs": [
    {
     "data": {
      "text/html": [
       "<table class=\"dataframe\">\n",
       "<caption>A tibble: 6 × 4</caption>\n",
       "<thead>\n",
       "\t<tr><th scope=col>region</th><th scope=col>sum_international</th><th scope=col>sum_female</th><th scope=col>total_students</th></tr>\n",
       "\t<tr><th scope=col>&lt;chr&gt;</th><th scope=col>&lt;dbl&gt;</th><th scope=col>&lt;dbl&gt;</th><th scope=col>&lt;int&gt;</th></tr>\n",
       "</thead>\n",
       "<tbody>\n",
       "\t<tr><td>Caribbean      </td><td>  1321</td><td>  55894</td><td>  87070</td></tr>\n",
       "\t<tr><td>Central America</td><td> 15450</td><td> 580624</td><td>1125053</td></tr>\n",
       "\t<tr><td>Central Asia   </td><td>  4778</td><td>  28114</td><td>  52830</td></tr>\n",
       "\t<tr><td>East Asia      </td><td>196857</td><td>1547288</td><td>3579350</td></tr>\n",
       "\t<tr><td>Eastern Africa </td><td>  2356</td><td> 108106</td><td> 293743</td></tr>\n",
       "\t<tr><td>Europe         </td><td>536971</td><td>1195066</td><td>2143062</td></tr>\n",
       "</tbody>\n",
       "</table>\n"
      ],
      "text/latex": [
       "A tibble: 6 × 4\n",
       "\\begin{tabular}{llll}\n",
       " region & sum\\_international & sum\\_female & total\\_students\\\\\n",
       " <chr> & <dbl> & <dbl> & <int>\\\\\n",
       "\\hline\n",
       "\t Caribbean       &   1321 &   55894 &   87070\\\\\n",
       "\t Central America &  15450 &  580624 & 1125053\\\\\n",
       "\t Central Asia    &   4778 &   28114 &   52830\\\\\n",
       "\t East Asia       & 196857 & 1547288 & 3579350\\\\\n",
       "\t Eastern Africa  &   2356 &  108106 &  293743\\\\\n",
       "\t Europe          & 536971 & 1195066 & 2143062\\\\\n",
       "\\end{tabular}\n"
      ],
      "text/markdown": [
       "\n",
       "A tibble: 6 × 4\n",
       "\n",
       "| region &lt;chr&gt; | sum_international &lt;dbl&gt; | sum_female &lt;dbl&gt; | total_students &lt;int&gt; |\n",
       "|---|---|---|---|\n",
       "| Caribbean       |   1321 |   55894 |   87070 |\n",
       "| Central America |  15450 |  580624 | 1125053 |\n",
       "| Central Asia    |   4778 |   28114 |   52830 |\n",
       "| East Asia       | 196857 | 1547288 | 3579350 |\n",
       "| Eastern Africa  |   2356 |  108106 |  293743 |\n",
       "| Europe          | 536971 | 1195066 | 2143062 |\n",
       "\n"
      ],
      "text/plain": [
       "  region          sum_international sum_female total_students\n",
       "1 Caribbean         1321              55894      87070       \n",
       "2 Central America  15450             580624    1125053       \n",
       "3 Central Asia      4778              28114      52830       \n",
       "4 East Asia       196857            1547288    3579350       \n",
       "5 Eastern Africa    2356             108106     293743       \n",
       "6 Europe          536971            1195066    2143062       "
      ]
     },
     "metadata": {},
     "output_type": "display_data"
    },
    {
     "data": {
      "text/html": [
       "<table class=\"dataframe\">\n",
       "<caption>A data.frame: 6 × 12</caption>\n",
       "<thead>\n",
       "\t<tr><th></th><th scope=col>name</th><th scope=col>location</th><th scope=col>num_students</th><th scope=col>pct_international</th><th scope=col>pct_female</th><th scope=col>pct_male</th><th scope=col>approx_int</th><th scope=col>approx_int_fem</th><th scope=col>approx_int_male</th><th scope=col>approx_fem</th><th scope=col>approx_male</th><th scope=col>region</th></tr>\n",
       "\t<tr><th></th><th scope=col>&lt;chr&gt;</th><th scope=col>&lt;fct&gt;</th><th scope=col>&lt;int&gt;</th><th scope=col>&lt;int&gt;</th><th scope=col>&lt;dbl&gt;</th><th scope=col>&lt;dbl&gt;</th><th scope=col>&lt;dbl&gt;</th><th scope=col>&lt;dbl&gt;</th><th scope=col>&lt;dbl&gt;</th><th scope=col>&lt;dbl&gt;</th><th scope=col>&lt;dbl&gt;</th><th scope=col>&lt;chr&gt;</th></tr>\n",
       "</thead>\n",
       "<tbody>\n",
       "\t<tr><th scope=row>1</th><td>University of Abou Bekr Belkaïd Tlemcen </td><td>Algeria</td><td>40203</td><td>1</td><td>68</td><td>32</td><td>402</td><td>273</td><td>129</td><td>27338</td><td>12865</td><td>Northern Africa</td></tr>\n",
       "\t<tr><th scope=row>2</th><td>Blida 1 University                      </td><td>Algeria</td><td>30076</td><td>1</td><td>68</td><td>32</td><td>301</td><td>205</td><td> 96</td><td>20452</td><td> 9624</td><td>Northern Africa</td></tr>\n",
       "\t<tr><th scope=row>3</th><td>Université 8 Mai 1945 Guelma            </td><td>Algeria</td><td>17530</td><td>1</td><td>67</td><td>33</td><td>175</td><td>117</td><td> 58</td><td>11745</td><td> 5785</td><td>Northern Africa</td></tr>\n",
       "\t<tr><th scope=row>4</th><td>Oran 1 University                       </td><td>Algeria</td><td>25775</td><td>1</td><td>66</td><td>34</td><td>258</td><td>170</td><td> 88</td><td>17012</td><td> 8764</td><td>Northern Africa</td></tr>\n",
       "\t<tr><th scope=row>5</th><td>Université Mouloud Mammeri de Tizi-Ouzou</td><td>Algeria</td><td>41107</td><td>0</td><td>66</td><td>34</td><td>  0</td><td>  0</td><td>  0</td><td>27131</td><td>13976</td><td>Northern Africa</td></tr>\n",
       "\t<tr><th scope=row>6</th><td>Ferhat Abbas Sétif University 1         </td><td>Algeria</td><td>34637</td><td>1</td><td>63</td><td>37</td><td>346</td><td>218</td><td>128</td><td>21821</td><td>12816</td><td>Northern Africa</td></tr>\n",
       "</tbody>\n",
       "</table>\n"
      ],
      "text/latex": [
       "A data.frame: 6 × 12\n",
       "\\begin{tabular}{r|llllllllllll}\n",
       "  & name & location & num\\_students & pct\\_international & pct\\_female & pct\\_male & approx\\_int & approx\\_int\\_fem & approx\\_int\\_male & approx\\_fem & approx\\_male & region\\\\\n",
       "  & <chr> & <fct> & <int> & <int> & <dbl> & <dbl> & <dbl> & <dbl> & <dbl> & <dbl> & <dbl> & <chr>\\\\\n",
       "\\hline\n",
       "\t1 & University of Abou Bekr Belkaïd Tlemcen  & Algeria & 40203 & 1 & 68 & 32 & 402 & 273 & 129 & 27338 & 12865 & Northern Africa\\\\\n",
       "\t2 & Blida 1 University                       & Algeria & 30076 & 1 & 68 & 32 & 301 & 205 &  96 & 20452 &  9624 & Northern Africa\\\\\n",
       "\t3 & Université 8 Mai 1945 Guelma             & Algeria & 17530 & 1 & 67 & 33 & 175 & 117 &  58 & 11745 &  5785 & Northern Africa\\\\\n",
       "\t4 & Oran 1 University                        & Algeria & 25775 & 1 & 66 & 34 & 258 & 170 &  88 & 17012 &  8764 & Northern Africa\\\\\n",
       "\t5 & Université Mouloud Mammeri de Tizi-Ouzou & Algeria & 41107 & 0 & 66 & 34 &   0 &   0 &   0 & 27131 & 13976 & Northern Africa\\\\\n",
       "\t6 & Ferhat Abbas Sétif University 1          & Algeria & 34637 & 1 & 63 & 37 & 346 & 218 & 128 & 21821 & 12816 & Northern Africa\\\\\n",
       "\\end{tabular}\n"
      ],
      "text/markdown": [
       "\n",
       "A data.frame: 6 × 12\n",
       "\n",
       "| <!--/--> | name &lt;chr&gt; | location &lt;fct&gt; | num_students &lt;int&gt; | pct_international &lt;int&gt; | pct_female &lt;dbl&gt; | pct_male &lt;dbl&gt; | approx_int &lt;dbl&gt; | approx_int_fem &lt;dbl&gt; | approx_int_male &lt;dbl&gt; | approx_fem &lt;dbl&gt; | approx_male &lt;dbl&gt; | region &lt;chr&gt; |\n",
       "|---|---|---|---|---|---|---|---|---|---|---|---|---|\n",
       "| 1 | University of Abou Bekr Belkaïd Tlemcen  | Algeria | 40203 | 1 | 68 | 32 | 402 | 273 | 129 | 27338 | 12865 | Northern Africa |\n",
       "| 2 | Blida 1 University                       | Algeria | 30076 | 1 | 68 | 32 | 301 | 205 |  96 | 20452 |  9624 | Northern Africa |\n",
       "| 3 | Université 8 Mai 1945 Guelma             | Algeria | 17530 | 1 | 67 | 33 | 175 | 117 |  58 | 11745 |  5785 | Northern Africa |\n",
       "| 4 | Oran 1 University                        | Algeria | 25775 | 1 | 66 | 34 | 258 | 170 |  88 | 17012 |  8764 | Northern Africa |\n",
       "| 5 | Université Mouloud Mammeri de Tizi-Ouzou | Algeria | 41107 | 0 | 66 | 34 |   0 |   0 |   0 | 27131 | 13976 | Northern Africa |\n",
       "| 6 | Ferhat Abbas Sétif University 1          | Algeria | 34637 | 1 | 63 | 37 | 346 | 218 | 128 | 21821 | 12816 | Northern Africa |\n",
       "\n"
      ],
      "text/plain": [
       "  name                                     location num_students\n",
       "1 University of Abou Bekr Belkaïd Tlemcen  Algeria  40203       \n",
       "2 Blida 1 University                       Algeria  30076       \n",
       "3 Université 8 Mai 1945 Guelma             Algeria  17530       \n",
       "4 Oran 1 University                        Algeria  25775       \n",
       "5 Université Mouloud Mammeri de Tizi-Ouzou Algeria  41107       \n",
       "6 Ferhat Abbas Sétif University 1          Algeria  34637       \n",
       "  pct_international pct_female pct_male approx_int approx_int_fem\n",
       "1 1                 68         32       402        273           \n",
       "2 1                 68         32       301        205           \n",
       "3 1                 67         33       175        117           \n",
       "4 1                 66         34       258        170           \n",
       "5 0                 66         34         0          0           \n",
       "6 1                 63         37       346        218           \n",
       "  approx_int_male approx_fem approx_male region         \n",
       "1 129             27338      12865       Northern Africa\n",
       "2  96             20452       9624       Northern Africa\n",
       "3  58             11745       5785       Northern Africa\n",
       "4  88             17012       8764       Northern Africa\n",
       "5   0             27131      13976       Northern Africa\n",
       "6 128             21821      12816       Northern Africa"
      ]
     },
     "metadata": {},
     "output_type": "display_data"
    }
   ],
   "source": [
    "head(region_stats)  \n",
    "head(est_int_per_gender)"
   ]
  },
  {
   "cell_type": "markdown",
   "id": "83c50a2c-c5e9-4071-bebc-a3699f1c69a6",
   "metadata": {
    "tags": []
   },
   "source": [
    "<br>\n",
    "\n",
    "---\n",
    "##  References \n",
    "\n",
    "Syed Ali Taqi. (2023). World University Rankings 2023 [Data set]. Kaggle. https://doi.org/10.34740/KAGGLE/DSV/6394958"
   ]
  },
  {
   "cell_type": "code",
   "execution_count": null,
   "id": "3ea42cb5-3b9b-4866-b088-75e882411900",
   "metadata": {},
   "outputs": [],
   "source": []
  }
 ],
 "metadata": {
  "kernelspec": {
   "display_name": "R",
   "language": "R",
   "name": "ir"
  },
  "language_info": {
   "codemirror_mode": "r",
   "file_extension": ".r",
   "mimetype": "text/x-r-source",
   "name": "R",
   "pygments_lexer": "r",
   "version": "4.3.3"
  },
  "toc-autonumbering": false,
  "toc-showcode": true
 },
 "nbformat": 4,
 "nbformat_minor": 5
}
