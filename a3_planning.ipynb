{
 "cells": [
  {
   "cell_type": "markdown",
   "id": "95a685a4-4131-4031-8a9c-8a84ed682e9f",
   "metadata": {},
   "source": [
    "Assignment 3: Methods and Plan\n",
    "1. Propose one method to address your question of interest using the selected dataset and explain why it was chosen. \n",
    "2. In your explanation respond to the following questions:\n",
    "3. Why is this method appropriate? justify its choice.\n",
    "4. Which assumptions are required, if any, to apply the method selected? If this was not covered in the course, you can skip this part.\n",
    "5. What are potential limitations or weaknesses of the method selected?\n",
    "\n",
    "\n",
    "Notes:\n",
    "- Word count limit: 500 words for the new part of the assignment (Methods and Plan).\n",
    "- Submit as soon as you are done so that we can start giving you feedback to continue just after the deadline.  \n",
    "- you don't have to implement your proposal (no coding required for now!!)\n",
    "- you can relax/expand your question(s) in this assignment. You don't need to change the question from previous assignment (unless totally unrelated). For example, even if your main interest is to analyze the relation between the price of a property and its size, the analysis can (need to) include other variables in the data. You can make a light pre-selection if the data contains many variables that seem problematic (e.g., with majority of missing values or too large number of levels) but you need to clearly justify your decision. \n",
    "- keep populating your previous assignment. That is, include the explanation of the data, questions and brief EDA. We won't re-grade past parts but it helps us to understand your reasoning. \n",
    "\n",
    "Rubric\n",
    "- [x] The submission appears to be self-contained. The submission was a single file with all figures included.\n",
    "- [ ] The goal of the project is well posed, creative and interesting.\n",
    "- [ ] Clear ideas based on learned or future course material.\n",
    "- [ ] The correct method is proposed.\n",
    "- [ ] Thesis is clear and the arguments that support it are flawless and very well-reasoned, leaving no obvious gaps.\n",
    "- [ ] Structure of argument is very clear and straightforward; the reader almost never has to jump back and forth unless clearly instructed to do so by references.\n",
    "- [ ] No grammar or spelling errors are present.\n",
    "- [ ] The submission is concise and to the point; the page, word or sentence count was respected.\n",
    "- [ ] Submission: All assignments must be done in a Jupyter notebook, and then submitted both as an .html and an .ipynb file that is reproducible (i.e. works and runs without any additional files)\n",
    "\n",
    "\n",
    "\n",
    "\n"
   ]
  },
  {
   "cell_type": "code",
   "execution_count": null,
   "id": "f23f8e80-682c-40fe-a6be-368255e454e1",
   "metadata": {},
   "outputs": [],
   "source": []
  }
 ],
 "metadata": {
  "kernelspec": {
   "display_name": "R",
   "language": "R",
   "name": "ir"
  },
  "language_info": {
   "codemirror_mode": "r",
   "file_extension": ".r",
   "mimetype": "text/x-r-source",
   "name": "R",
   "pygments_lexer": "r",
   "version": "4.3.3"
  }
 },
 "nbformat": 4,
 "nbformat_minor": 5
}
